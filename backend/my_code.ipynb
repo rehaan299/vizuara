{
 "cells": [
  {
   "cell_type": "code",
   "execution_count": 1,
   "metadata": {},
   "outputs": [
    {
     "data": {
      "text/html": [
       "<div>\n",
       "<style scoped>\n",
       "    .dataframe tbody tr th:only-of-type {\n",
       "        vertical-align: middle;\n",
       "    }\n",
       "\n",
       "    .dataframe tbody tr th {\n",
       "        vertical-align: top;\n",
       "    }\n",
       "\n",
       "    .dataframe thead th {\n",
       "        text-align: right;\n",
       "    }\n",
       "</style>\n",
       "<table border=\"1\" class=\"dataframe\">\n",
       "  <thead>\n",
       "    <tr style=\"text-align: right;\">\n",
       "      <th></th>\n",
       "      <th>Question</th>\n",
       "      <th>Answer</th>\n",
       "      <th>Difficulty</th>\n",
       "    </tr>\n",
       "  </thead>\n",
       "  <tbody>\n",
       "    <tr>\n",
       "      <th>0</th>\n",
       "      <td>What is 5 + 3?</td>\n",
       "      <td>8</td>\n",
       "      <td>Easy</td>\n",
       "    </tr>\n",
       "    <tr>\n",
       "      <th>1</th>\n",
       "      <td>What is 12 - 4?</td>\n",
       "      <td>8</td>\n",
       "      <td>Easy</td>\n",
       "    </tr>\n",
       "    <tr>\n",
       "      <th>2</th>\n",
       "      <td>What is 7 * 6?</td>\n",
       "      <td>42</td>\n",
       "      <td>Easy</td>\n",
       "    </tr>\n",
       "    <tr>\n",
       "      <th>3</th>\n",
       "      <td>What is 16 / 4?</td>\n",
       "      <td>4</td>\n",
       "      <td>Easy</td>\n",
       "    </tr>\n",
       "    <tr>\n",
       "      <th>4</th>\n",
       "      <td>What is the square root of 25?</td>\n",
       "      <td>5</td>\n",
       "      <td>Easy</td>\n",
       "    </tr>\n",
       "  </tbody>\n",
       "</table>\n",
       "</div>"
      ],
      "text/plain": [
       "                         Question Answer Difficulty\n",
       "0                  What is 5 + 3?      8       Easy\n",
       "1                 What is 12 - 4?      8       Easy\n",
       "2                  What is 7 * 6?     42       Easy\n",
       "3                 What is 16 / 4?      4       Easy\n",
       "4  What is the square root of 25?      5       Easy"
      ]
     },
     "execution_count": 1,
     "metadata": {},
     "output_type": "execute_result"
    }
   ],
   "source": [
    "import pandas as pd # importing padnas for tabular data reading in csv format\n",
    "\n",
    "file_path=\"math_questions_dataset.csv\"# file path of the dataset\n",
    "data=pd.read_csv(file_path)# reading the dataset\n",
    "data.hea0d()# displaying the first 5 rows of the dataset"
   ]
  },
  {
   "cell_type": "code",
   "execution_count": 2,
   "metadata": {},
   "outputs": [],
   "source": [
    "import random #for selecting random questions for student to answer\n",
    "random_questions=data.sample(n=6,random_state=random.randint(1,1000))# selecting 6 random questions\n"
   ]
  },
  {
   "cell_type": "code",
   "execution_count": 3,
   "metadata": {},
   "outputs": [
    {
     "name": "stdout",
     "output_type": "stream",
     "text": [
      "please answer the following questions:\n",
      "Q11 :What is the value of pi to two decimal places? \n",
      "Easy\n",
      "Q37 :Solve for x: x^2 - 4 = 0 \n",
      "Medium\n",
      "Q41 :What is the derivative of sin(x)? \n",
      "Hard\n",
      "Q20 :What is 36 + 64? \n",
      "Easy\n",
      "Q33 :What is 8 * 7 - 5? \n",
      "Medium\n",
      "Q57 :What is the inverse of the matrix [[1, 2], [3, 4]]? \n",
      "Hard\n"
     ]
    }
   ],
   "source": [
    "print(\"please answer the following questions:\")\n",
    "for i,row in random_questions.iterrows():\n",
    "    print(f\"Q{i+1} :{row['Question']} \")\n",
    "    print(f\"{row['Difficulty']}\")"
   ]
  },
  {
   "cell_type": "markdown",
   "metadata": {},
   "source": [
    "The iterrows() method generates an iterator object of the DataFrame, allowing us to iterate each row in the DataFrame.\n",
    "\n",
    "Each iteration produces an index object and a row object (a Pandas Series object)."
   ]
  },
  {
   "cell_type": "markdown",
   "metadata": {},
   "source": [
    ".sample in pandas randomly selects n rows from dataset here =6\n",
    "random_state=random.randint(1, 1000): This sets a random seed to ensure that the selection of questions can be reproduced if needed. Each time the script runs, a different seed between 1 and 1000 is generated, which means the selection will be different each time, but still reproducible within that session. This is particularly useful for testing and debugging."
   ]
  },
  {
   "cell_type": "code",
   "execution_count": 4,
   "metadata": {},
   "outputs": [],
   "source": [
    "student_answers=[]#initlisaing empty array for student answers\n",
    "for i,row in random_questions.iterrows():\n",
    "    answer=input(f\"Answer for Q{i+1}:\")\n",
    "    student_answers.append(answer)"
   ]
  },
  {
   "cell_type": "code",
   "execution_count": 5,
   "metadata": {},
   "outputs": [
    {
     "name": "stdout",
     "output_type": "stream",
     "text": [
      "\n",
      "Results:\n",
      "Q1: What is the value of pi to two decimal places?\n",
      "Your answer: 2.17\n",
      "Correct answer: 3.14\n",
      "Result: Incorrect\n",
      "\n",
      "Q2: Solve for x: x^2 - 4 = 0\n",
      "Your answer: 2\n",
      "Correct answer: 2\n",
      "Result: Correct\n",
      "\n",
      "Q3: What is the derivative of sin(x)?\n",
      "Your answer: cos(x)\n",
      "Correct answer: cos(x)\n",
      "Result: Correct\n",
      "\n",
      "Q4: What is 36 + 64?\n",
      "Your answer: 100\n",
      "Correct answer: 100\n",
      "Result: Correct\n",
      "\n",
      "Q5: What is 8 * 7 - 5?\n",
      "Your answer: 49\n",
      "Correct answer: 51\n",
      "Result: Incorrect\n",
      "\n",
      "Q6: What is the inverse of the matrix [[1, 2], [3, 4]]?\n",
      "Your answer: 0\n",
      "Correct answer: [[-2, 1], [1.5, -0.5]]\n",
      "Result: Incorrect\n",
      "\n",
      "Your score is 3/6 , accuracy is 50.0%\n"
     ]
    }
   ],
   "source": [
    "results = []\n",
    "points = {'Easy': 1, 'Medium': 2, 'Hard': 3}\n",
    "prof_score=0\n",
    "print(\"\\nResults:\")\n",
    "for i, (index, row) in enumerate(random_questions.iterrows()):\n",
    "    correct_answer = str(row['Answer']).strip().lower()\n",
    "    student_answer = str(student_answers[i]).strip().lower()\n",
    "    difficulty=row['Difficulty']\n",
    "    max_points_for_question=points[difficulty]\n",
    "    if correct_answer == student_answer:\n",
    "        results.append(True)\n",
    "        status = \"Correct\"\n",
    "        prof_score+=max_points_for_question\n",
    "        \n",
    "    else:\n",
    "        results.append(False)\n",
    "        status = \"Incorrect\"\n",
    "    \n",
    "    print(f\"Q{i+1}: {row['Question']}\")\n",
    "    print(f\"Your answer: {student_answers[i]}\")\n",
    "    print(f\"Correct answer: {row['Answer']}\")\n",
    "    print(f\"Result: {status}\\n\")\n",
    "\n",
    "# Display final score\n",
    "correct_count = sum(results)#we ppend true ie 1 for correct answer and false ie 0 for incorrect answer\n",
    "total_questions = len(results)\n",
    "accuracy=correct_count/total_questions\n",
    "print(f\"Your score is {correct_count}/{total_questions} , accuracy is {accuracy*100}%\")\n",
    "\n",
    "\n",
    "# print(f\"\\nYou answered {correct_count} out of {total_questions} questions correctly.\")\n",
    "   "
   ]
  },
  {
   "cell_type": "code",
   "execution_count": 6,
   "metadata": {},
   "outputs": [],
   "source": [
    "# # Calculate proficiency\n",
    "# proficiency = prof_score / total_questions\n",
    "# print(f\"Proficiency: {proficiency * 100}%\")"
   ]
  },
  {
   "cell_type": "markdown",
   "metadata": {},
   "source": []
  },
  {
   "cell_type": "markdown",
   "metadata": {},
   "source": [
    "adjusting profiecieny to factor in randomness of some student getting more easy ques and less hard ques and vice versa"
   ]
  },
  {
   "cell_type": "code",
   "execution_count": 7,
   "metadata": {},
   "outputs": [],
   "source": [
    "# print(random_questions[\"Difficulty\"])"
   ]
  },
  {
   "cell_type": "code",
   "execution_count": 8,
   "metadata": {},
   "outputs": [],
   "source": [
    "difficulty_counts=random_questions[\"Difficulty\"].value_counts()\n",
    "# print(difficulty_counts)\n",
    "difficulty_counts=difficulty_counts.to_dict() #converting into dictionary using to_dict() method\n",
    "# print(difficulty_counts)\n",
    "# print(difficulty_counts[\"Easy\"]) #to access the value of key \"Easy\" in dictionary"
   ]
  },
  {
   "cell_type": "code",
   "execution_count": 9,
   "metadata": {},
   "outputs": [],
   "source": [
    "#calculating max score\n",
    "max_score=0\n",
    "for difficulty,count in difficulty_counts.items():\n",
    "    max_score+=points[difficulty]*count\n",
    "  "
   ]
  },
  {
   "cell_type": "code",
   "execution_count": 10,
   "metadata": {},
   "outputs": [
    {
     "name": "stdout",
     "output_type": "stream",
     "text": [
      "Profiency: 50.0\n"
     ]
    }
   ],
   "source": [
    "proficiency=(prof_score/max_score)*100\n",
    "print(f\"Profiency:\",proficiency)"
   ]
  },
  {
   "cell_type": "markdown",
   "metadata": {},
   "source": [
    "value_counts()\n",
    "value_counts() is a method provided by pandas that returns a Series containing counts of unique values in a DataFrame column. It's particularly useful for summarizing categorical data. The index of the resulting Series contains the unique values, and the values are the counts of these unique values."
   ]
  },
  {
   "cell_type": "code",
   "execution_count": 11,
   "metadata": {},
   "outputs": [],
   "source": [
    "#function to get prof level for next ques asked\n",
    "\n",
    "def get_proficiency_level(prof_score):\n",
    "    if prof_score>=75:\n",
    "        return \"high\"\n",
    "    elif prof_score>=50:\n",
    "        return \"medium\"\n",
    "    else:\n",
    "        return \"low\""
   ]
  },
  {
   "cell_type": "code",
   "execution_count": 12,
   "metadata": {},
   "outputs": [],
   "source": [
    "   # Function to calculate adjusted proficiency\n",
    "def calculate_adjusted_proficiency(prof_score, question_difficulties, points):\n",
    "     difficulty_counts = pd.Series(question_difficulties).value_counts().to_dict()\n",
    "     max_score = sum(points[difficulty] * count for difficulty, count in difficulty_counts.items())\n",
    "     if max_score > 0:\n",
    "         return (prof_score / max_score) * 100\n",
    "     else:\n",
    "            return 0"
   ]
  },
  {
   "cell_type": "code",
   "execution_count": 13,
   "metadata": {},
   "outputs": [
    {
     "name": "stdout",
     "output_type": "stream",
     "text": [
      "\n",
      "Q7: What is the value of cos(90 degrees)? (Medium)\n",
      "Correct answer ,0\n",
      "Updated Proficiency: 57.14285714285714%\n",
      "\n",
      "Q8: What is 12 * 15? (Medium)\n",
      "Correct answer ,180\n",
      "Updated Proficiency: 62.5%\n",
      "\n",
      "Q9: What is the sum of the first 10 natural numbers? (Medium)\n",
      "Incorrect answer.The correct answer is 55\n",
      "Updated Proficiency: 55.55555555555556%\n",
      "\n",
      "Q10: What is the value of sin(30 degrees)? (Medium)\n",
      "Incorrect answer.The correct answer is 0.5\n",
      "Updated Proficiency: 50.0%\n",
      "\n",
      "Q11: What is the value of tan(45 degrees)? (Medium)\n",
      "Incorrect answer.The correct answer is 1\n",
      "Updated Proficiency: 45.45454545454545%\n",
      "\n",
      "Q12: What is 3^3? (Easy)\n",
      "Incorrect answer.The correct answer is 27\n",
      "Updated Proficiency: 43.47826086956522%\n",
      "\n",
      "Q13: What is 15 / 3? (Easy)\n",
      "Correct answer ,5\n",
      "Updated Proficiency: 45.83333333333333%\n",
      "\n",
      "Q14: What is 16 / 4? (Easy)\n",
      "Correct answer ,4\n",
      "Updated Proficiency: 48.0%\n",
      "\n",
      "Q15: What is 12 - 4? (Easy)\n",
      "Correct answer ,8\n",
      "Updated Proficiency: 50.0%\n",
      "\n",
      "Q16: What is the logarithm base 10 of 1000? (Medium)\n",
      "Correct answer ,3\n",
      "Updated Proficiency: 53.57142857142857%\n",
      "\n",
      "Q17: What is the quadratic formula? (Medium)\n",
      "Incorrect answer.The correct answer is (-b ± √(b^2 - 4ac))/(2a)\n",
      "Updated Proficiency: 50.0%\n",
      "\n",
      "Q18: What is the area of a circle with radius 3? (Medium)\n",
      "Incorrect answer.The correct answer is 28.27\n",
      "Updated Proficiency: 46.875%\n",
      "\n",
      "Q19: What is 9 + 10? (Easy)\n",
      "Incorrect answer.The correct answer is 19\n",
      "Updated Proficiency: 45.45454545454545%\n",
      "\n",
      "Q20: What is 36 + 64? (Easy)\n",
      "Incorrect answer.The correct answer is 100\n",
      "Updated Proficiency: 44.11764705882353%\n",
      "\n",
      "Final Proficiency: 44.11764705882353%\n"
     ]
    }
   ],
   "source": [
    "questions_asked=total_questions\n",
    "question_difficulties = [row['Difficulty'] for _, row in random_questions.iterrows()]\n",
    "\n",
    "while True:\n",
    "    prof_level=get_proficiency_level(proficiency)\n",
    "    \n",
    "    if prof_level==\"high\":\n",
    "        difficulty_choice=[\"Hard\"]\n",
    "    elif prof_level==\"medium\":\n",
    "        difficulty_choice=['Medium']\n",
    "    else:\n",
    "        difficulty_choice=['Easy']\n",
    "        \n",
    "        \n",
    "    next_question=data[data[\"Difficulty\"].isin(difficulty_choice)].sample(n=1,random_state=random.randint(1,1000))\n",
    "    question_text=next_question.iloc[0]['Question']\n",
    "    correct_answer=next_question.iloc[0]['Answer']\n",
    "    correct_answer=str(correct_answer).strip().lower()\n",
    "    difficulty = next_question.iloc[0]['Difficulty']\n",
    "    max_points_for_question=points[difficulty]\n",
    "\n",
    "    print(f\"\\nQ{questions_asked+1}: {question_text} ({difficulty})\")\n",
    "    student_answer=input(\"Your answer :\").strip().lower()\n",
    "            \n",
    "    if student_answer==correct_answer:\n",
    "        print(f\"Correct answer ,{student_answer}\")\n",
    "        prof_score+=max_points_for_question\n",
    "    else:\n",
    "        print(f\"Incorrect answer.The correct answer is {correct_answer}\")\n",
    "        \n",
    "   \n",
    "    questions_asked+=1\n",
    "   \n",
    "    question_difficulties.append(difficulty)\n",
    "\n",
    "    proficiency = calculate_adjusted_proficiency(prof_score, question_difficulties, points)\n",
    "    print(f\"Updated Proficiency: {proficiency}%\")\n",
    "\n",
    "    # Select the next question based on updated proficiency\n",
    "    proficiency_level = get_proficiency_level(proficiency)\n",
    "    \n",
    "    if proficiency_level == 'high':\n",
    "        difficulty_choice = ['Hard']\n",
    "    elif proficiency_level == 'medium':\n",
    "        difficulty_choice = ['Medium']\n",
    "    else:\n",
    "        difficulty_choice = ['Easy']\n",
    "\n",
    "    if questions_asked>=20:\n",
    "        break\n",
    "\n",
    "print(f\"\\nFinal Proficiency: {proficiency}%\")\n",
    "\n",
    "\n",
    "\n",
    "    "
   ]
  },
  {
   "cell_type": "markdown",
   "metadata": {},
   "source": []
  },
  {
   "cell_type": "markdown",
   "metadata": {},
   "source": [
    "data['Difficulty'].isin(difficulty_choice):\n",
    "\n",
    "data['Difficulty']: This accesses the 'Difficulty' column of the DataFrame data.\n",
    ".isin(difficulty_choice): This method checks each value in the 'Difficulty' column to see if it is in the difficulty_choice list.\n",
    "difficulty_choice is a list containing difficulty levels that are suitable based on the student's current proficiency (e.g., ['Hard'] for high proficiency, ['Medium'] for medium proficiency, and ['Easy'] for low proficiency).\n",
    "The result of this operation is a boolean Series that is True for rows where the 'Difficulty' value is in the difficulty_choice list and False otherwise.\n",
    "data[data['Difficulty'].isin(difficulty_choice)]:\n",
    "\n",
    "This filters the DataFrame data to include only the rows where the 'Difficulty' value is in the difficulty_choice list.\n",
    "For example, if difficulty_choice = ['Medium'], this step will filter the DataFrame to include only rows where 'Difficulty' is 'Medium'.\n",
    ".sample(n=1, random_state=random.randint(1, 1000)):\n",
    "\n",
    ".sample(n=1): This method randomly selects n rows from the filtered DataFrame. In this case, n=1 means one row is selected.\n",
    "random_state=random.randint(1, 1000): This sets a random seed for reproducibility. Using random.randint(1, 1000) ensures that the random seed is different each time the code runs, providing a different random selection each time.\n",
    "random.randint(1, 1000): This generates a random integer between 1 and 1000 to be used as the seed for the random selection.\n"
   ]
  },
  {
   "cell_type": "markdown",
   "metadata": {},
   "source": [
    "\n",
    "The .iloc attribute in pandas is used to access a group of rows and columns by integer position(s). It stands for \"integer location\" and allows you to select data from a DataFrame based on its numerical index.\n",
    "\n",
    "Here’s a detailed explanation of each line using .iloc in your context:"
   ]
  }
 ],
 "metadata": {
  "kernelspec": {
   "display_name": "Python 3",
   "language": "python",
   "name": "python3"
  },
  "language_info": {
   "codemirror_mode": {
    "name": "ipython",
    "version": 3
   },
   "file_extension": ".py",
   "mimetype": "text/x-python",
   "name": "python",
   "nbconvert_exporter": "python",
   "pygments_lexer": "ipython3",
   "version": "3.12.0"
  }
 },
 "nbformat": 4,
 "nbformat_minor": 2
}
